{
 "cells": [
  {
   "cell_type": "markdown",
   "metadata": {},
   "source": [
    "# СЕМИНАР. Сверточные нейронные сети и Keras на примере CIFAR-10"
   ]
  },
  {
   "cell_type": "markdown",
   "metadata": {},
   "source": [
    "<a name=\"0\"></a>\n",
    "<div><span style=\"font-size:14pt; font-weight:bold\">Содержание</span>\n",
    "    <ol>\n",
    "        <li><a href=\"#1\">Подготовка данных</a></li>\n",
    "        <li><a href=\"#2\">Построение сверточной нейронной сети</a></li>\n",
    "    </ol>\n",
    "    <a href=\"#3\">Источники</a>\n",
    "</div>"
   ]
  },
  {
   "cell_type": "code",
   "execution_count": null,
   "metadata": {},
   "outputs": [],
   "source": [
    "import numpy as np\n",
    "import matplotlib.pyplot as plt\n",
    "import os\n",
    "\n",
    "from keras.datasets import mnist,cifar10\n",
    "from keras.models import Sequential, load_model\n",
    "from keras.layers import Conv2D, MaxPool2D, Dropout, Dense, Activation, Flatten\n",
    "from keras.optimizers import SGD, Adam\n",
    "from keras.initializers import TruncatedNormal,Constant\n",
    "from keras.preprocessing.image import ImageDataGenerator\n",
    "from keras import utils\n",
    "from keras.utils import np_utils\n",
    "\n",
    "np.random.seed(555)\n",
    "\n",
    "cifar10_path = os.getcwd() + \"/data/cnn-cifar10/\" + \"cifar-10-python.tar.gz\"\n",
    "os.makedirs(os.getcwd() + \"/data/cnn-cifar10\", exist_ok=True)"
   ]
  },
  {
   "cell_type": "markdown",
   "metadata": {},
   "source": [
    "<a name=\"1\"></a>\n",
    "## 1. Подготовка данных"
   ]
  },
  {
   "cell_type": "markdown",
   "metadata": {},
   "source": [
    "Загрузка датасета"
   ]
  },
  {
   "cell_type": "code",
   "execution_count": null,
   "metadata": {},
   "outputs": [],
   "source": [
    "#fn = cifar10.get_file(cifar10_path, \"https://www.cs.toronto.edu/~kriz/cifar-10-python.tar.gz\")\n",
    "(x_train, y_train),(x_test, y_test) = cifar10.load_data() # датасет загрузится в ~/.keras/datasets/\n",
    "classes = {0:\"airplane\", 1:\"automobile\", 2:\"bird\", 3:\"cat\", 4:\"deer\", \n",
    "           5:\"dog\", 6:\"frog\", 7:\"horse\", 8:\"ship\", 9:\"truck\"}"
   ]
  },
  {
   "cell_type": "markdown",
   "metadata": {},
   "source": [
    "Предобработка данных"
   ]
  },
  {
   "cell_type": "code",
   "execution_count": null,
   "metadata": {},
   "outputs": [],
   "source": [
    "# масштабируем значения пикселей в диапазон от 0.0 до 1.0\n",
    "x_train = x_train.astype('float32')\n",
    "x_test = x_test.astype('float32')\n",
    "x_train /= 255\n",
    "x_test /= 255\n",
    "\n",
    "# one-hot encoding\n",
    "y_train = np_utils.to_categorical(y_train, 10)\n",
    "y_test = np_utils.to_categorical(y_test, 10)"
   ]
  },
  {
   "cell_type": "code",
   "execution_count": null,
   "metadata": {},
   "outputs": [],
   "source": [
    "# вывод рандомного примера из обучающего множества\n",
    "ind = np.random.choice(len(x_train))\n",
    "plt.imshow(x_train[ind])\n",
    "print(\"Класс: %s\" % classes[np.argmax(y_train[ind])])"
   ]
  },
  {
   "cell_type": "markdown",
   "metadata": {},
   "source": [
    "<a name=\"2\"></a>\n",
    "## 2. Построение сверточной нейронной сети"
   ]
  },
  {
   "cell_type": "markdown",
   "metadata": {},
   "source": [
    "Параметры для обучения и тестирования нейронной сети"
   ]
  },
  {
   "cell_type": "code",
   "execution_count": null,
   "metadata": {},
   "outputs": [],
   "source": [
    "# Размер мини-выборки\n",
    "batch_size = 32\n",
    "# Количество классов изображений\n",
    "classes = 10\n",
    "# Количество эпох для обучения\n",
    "num_epochs = 30\n",
    "# Размер изображения\n",
    "img_h, img_w = 32, 32\n",
    "# Количество каналов в изображении\n",
    "img_ch = 3"
   ]
  },
  {
   "cell_type": "markdown",
   "metadata": {},
   "source": [
    "Строим модель сверточной нейронной сети"
   ]
  },
  {
   "cell_type": "code",
   "execution_count": null,
   "metadata": {},
   "outputs": [],
   "source": [
    "# Создаем последовательную модель\n",
    "cnn2 = Sequential()\n",
    "# Первый сверточный слой\n",
    "cnn2.add(Conv2D(64, (3, 3), padding='same',\n",
    "                        input_shape=(32, 32, 3), activation='relu'))\n",
    "# Второй сверточный слой\n",
    "cnn2.add(Conv2D(64, (3, 3), activation='relu', padding='same'))\n",
    "# Первый слой подвыборки\n",
    "cnn2.add(MaxPool2D(pool_size=(2, 2)))\n",
    "# Слой регуляризации Dropout\n",
    "cnn2.add(Dropout(0.4))\n",
    "\n",
    "# Третий сверточный слой\n",
    "cnn2.add(Conv2D(256, (3, 3), padding='same', activation='relu'))\n",
    "# Четвертый сверточный слой\n",
    "cnn2.add(Conv2D(256, (3, 3), activation='relu'))\n",
    "# Второй слой подвыборки\n",
    "cnn2.add(MaxPool2D(pool_size=(2, 2)))\n",
    "# Слой регуляризации Dropout\n",
    "cnn2.add(Dropout(0.4))\n",
    "# Слой преобразования данных из двумерного представления в вектор\n",
    "cnn2.add(Flatten())\n",
    "# Полносвязный слой для классификации\n",
    "cnn2.add(Dense(1024, activation='relu'))\n",
    "# Слой регуляризации Dropout\n",
    "cnn2.add(Dropout(0.7))\n",
    "# Выходной полносвязный слой Softmax\n",
    "cnn2.add(Dense(classes, activation='softmax'))"
   ]
  },
  {
   "cell_type": "markdown",
   "metadata": {},
   "source": [
    "Вывод информации о структуре полученной сети"
   ]
  },
  {
   "cell_type": "code",
   "execution_count": null,
   "metadata": {},
   "outputs": [],
   "source": [
    "cnn2.summary()"
   ]
  },
  {
   "cell_type": "markdown",
   "metadata": {},
   "source": [
    "Выбор оптимизатора и комапиляция модели"
   ]
  },
  {
   "cell_type": "code",
   "execution_count": null,
   "metadata": {},
   "outputs": [],
   "source": [
    "sgd = Adam()\n",
    "cnn2.compile(loss='categorical_crossentropy',\n",
    "              optimizer=sgd,\n",
    "              metrics=['accuracy'])"
   ]
  },
  {
   "cell_type": "markdown",
   "metadata": {},
   "source": [
    "Обучение: 90%-обучающая выборка, 10%-валидационная выборка"
   ]
  },
  {
   "cell_type": "code",
   "execution_count": null,
   "metadata": {},
   "outputs": [],
   "source": [
    "# Обучение модели (без генератора изображений)\n",
    "%%time\n",
    "hist = cnn2.fit(x_train, y_train,\n",
    "          batch_size=batch_size,\n",
    "          epochs=num_epochs,\n",
    "          validation_split=0.1,\n",
    "          shuffle=True,\n",
    "          verbose=1)"
   ]
  },
  {
   "cell_type": "code",
   "execution_count": null,
   "metadata": {},
   "outputs": [],
   "source": [
    "# Визуализация процесса обучения - построение графиков зависимости ошибки и точности от эпохи\n",
    "plt.plot(hist.history[\"loss\"], label=\"Ошибка на обучающей выборке\")\n",
    "plt.plot(hist.history[\"val_loss\"], label=\"Ошибка на валидационной выборке\")\n",
    "plt.xlabel(\"Эпоха\")\n",
    "plt.ylabel(\"Ошибка\")\n",
    "plt.legend()\n",
    "plt.show()\n",
    "plt.plot(hist.history[\"acc\"], label=\"Точность на обучающей выборке\")\n",
    "plt.plot(hist.history[\"val_acc\"], label=\"Точность на валидационной выборке\")\n",
    "plt.xlabel(\"Эпоха\")\n",
    "plt.ylabel(\"Точность\")\n",
    "plt.legend()\n",
    "plt.show()"
   ]
  },
  {
   "cell_type": "markdown",
   "metadata": {},
   "source": [
    "Модель можно обучать дальше для повышения точности классификации (до тех пор пока не пойдет переобучение сети)"
   ]
  },
  {
   "cell_type": "markdown",
   "metadata": {},
   "source": [
    "Оценка точности классификации"
   ]
  },
  {
   "cell_type": "code",
   "execution_count": null,
   "metadata": {},
   "outputs": [],
   "source": [
    "# Тестирование модели\n",
    "scores = cnn2.evaluate(x_test, y_test, verbose=2)\n",
    "print(\"Точность: %.2f%%\" % (scores[1]*100))"
   ]
  },
  {
   "cell_type": "markdown",
   "metadata": {},
   "source": [
    "Сохранение сети в файл и загрузка из файла"
   ]
  },
  {
   "cell_type": "code",
   "execution_count": null,
   "metadata": {},
   "outputs": [],
   "source": [
    "model_path = \"./models/cnn-mnist-cifar10/cnn_cifar10_model.h5\"\n",
    "# сохранение обученной модели в файл\n",
    "cnn2.save(model_path)\n",
    "\n",
    "# загрузка сохраненной модели из файла\n",
    "#cnn2 = load_model(model_path)\n",
    "#scores = cnn2.evaluate(x_test, y_test, verbose=0)\n",
    "#print(\"Точность: %.2f%%\" % (scores[1]*100))"
   ]
  },
  {
   "cell_type": "code",
   "execution_count": null,
   "metadata": {},
   "outputs": [],
   "source": [
    "# вывод предсказания для произвольного примера и его истинную метку класса\n",
    "t = np.random.choice(len(x_test))\n",
    "plt.imshow(x_test[t])\n",
    "print(\"Истинный класс: \" + classes[np.argmax(y_test[t])])\n",
    "print(\"Предсказанный класс: \" + classes[np.argmax(cnn2.predict(np.expand_dims(x_test[t], axis=0)))])"
   ]
  },
  {
   "cell_type": "markdown",
   "metadata": {},
   "source": [
    "<a name=\"3\"></a>\n",
    "## Источники"
   ]
  },
  {
   "cell_type": "markdown",
   "metadata": {},
   "source": [
    "<div>\n",
    "<a href=\"https://www.tensorflow.org/tutorials/deep_cnn\">Convolutional Neural Networks</a><br>\n",
    "<a href=\"http://cs231n.github.io/convolutional-networks/\">Convolutional Neural Networks (CNNs / ConvNets)</a><br>\n",
    "<a href=\"http://papers.nips.cc/paper/4824-imagenet-classification-with-deep-convolutional-neural-networks.pdf\">ImageNet Classification with Deep Convolutional Neural Networks (PDF)</a><br>\n",
    "<a href=\"https://keras.io/getting-started/functional-api-guide/\">Keras API Introduction</a><br>\n",
    "<a href=\"https://keras.io/getting-started/sequential-model-guide/\">Keras Sequential Model Guide</a><br>\n",
    "<a href=\"https://keras.io/datasets/\">Keras Datasets</a>\n",
    "</div>"
   ]
  },
  {
   "cell_type": "code",
   "execution_count": null,
   "metadata": {},
   "outputs": [],
   "source": []
  }
 ],
 "metadata": {
  "kernelspec": {
   "display_name": "Python 3",
   "language": "python",
   "name": "python3"
  },
  "language_info": {
   "codemirror_mode": {
    "name": "ipython",
    "version": 3
   },
   "file_extension": ".py",
   "mimetype": "text/x-python",
   "name": "python",
   "nbconvert_exporter": "python",
   "pygments_lexer": "ipython3",
   "version": "3.6.7"
  }
 },
 "nbformat": 4,
 "nbformat_minor": 2
}
