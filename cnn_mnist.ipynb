{
 "cells": [
  {
   "cell_type": "markdown",
   "metadata": {},
   "source": [
    "# СЕМИНАР. Сверточные нейронные сети и Keras на примере MNIST"
   ]
  },
  {
   "cell_type": "markdown",
   "metadata": {},
   "source": [
    "<a name=\"0\"></a>\n",
    "<div><span style=\"font-size:14pt; font-weight:bold\">Содержание</span>\n",
    "    <ol>\n",
    "        <li><a href=\"#1\">Подготовка данных</a></li>\n",
    "        <li><a href=\"#2\">Softmax регрессия</a></li>\n",
    "        <li><a href=\"#3\">Сверточная нейронная сеть (CNN)</a>\n",
    "            <ol style = \"list-style-type:lower-alpha\">\n",
    "                <li><a href=\"#3a\">Первый слой</a></li>\n",
    "                <li><a href=\"#3b\">Второй слой</a></li>\n",
    "                <li><a href=\"#3c\">Третий и четвертый слои</a></li>\n",
    "                <li><a href=\"#3d\">Обучение и тестирование</a></li>\n",
    "                <li><a href=\"#3e\">Dropout-регуляризация</a></li>\n",
    "            </ol>\n",
    "        </li>\n",
    "    </ol>\n",
    "    <a href=\"#6\">Источники</a>\n",
    "</div>"
   ]
  },
  {
   "cell_type": "code",
   "execution_count": null,
   "metadata": {},
   "outputs": [],
   "source": [
    "import numpy as np\n",
    "import matplotlib.pyplot as plt\n",
    "import os\n",
    "\n",
    "from keras.datasets import mnist,cifar10\n",
    "from keras.models import Sequential, load_model\n",
    "from keras.layers import Conv2D, MaxPool2D, Dropout, Dense, Activation, Flatten\n",
    "from keras.optimizers import SGD, Adam\n",
    "from keras.initializers import TruncatedNormal,Constant\n",
    "from keras.preprocessing.image import ImageDataGenerator\n",
    "from keras import utils\n",
    "from keras.utils import np_utils\n",
    "\n",
    "np.random.seed(555)\n",
    "\n",
    "mnist_path = os.getcwd() + \"/data/cnn-mnist/\" + \"mnist.npz\"\n",
    "os.makedirs(os.getcwd() + \"/data/cnn-mnist\", exist_ok=True)"
   ]
  },
  {
   "cell_type": "markdown",
   "metadata": {},
   "source": [
    "<a name=\"1\"></a>\n",
    "## 1. Подготовка данных"
   ]
  },
  {
   "cell_type": "markdown",
   "metadata": {},
   "source": [
    "Загрузка датасета MNIST"
   ]
  },
  {
   "cell_type": "code",
   "execution_count": null,
   "metadata": {},
   "outputs": [],
   "source": [
    "fn = mnist.get_file(mnist_path, \"https://s3.amazonaws.com/img-datasets/mnist.npz\")\n",
    "(x_train, y_train), (x_test, y_test) = mnist.load_data(fn)"
   ]
  },
  {
   "cell_type": "markdown",
   "metadata": {},
   "source": [
    "Вывод ранодомного примера из датасета"
   ]
  },
  {
   "cell_type": "code",
   "execution_count": null,
   "metadata": {},
   "outputs": [],
   "source": [
    "im = np.random.choice(len(x_train))\n",
    "plt.figure(figsize=[3,3])\n",
    "plt.matshow(x_train[im],  cmap=\"gray\")\n",
    "plt.title(\"Класс: %i\" % y_train[im])\n",
    "plt.show()"
   ]
  },
  {
   "cell_type": "markdown",
   "metadata": {},
   "source": [
    "Масштабируем значения пикселей в пределах от 0.0 до 1.0, преобразуем картинку(матрицу) в вектор"
   ]
  },
  {
   "cell_type": "code",
   "execution_count": null,
   "metadata": {},
   "outputs": [],
   "source": [
    "x_train = x_train.astype(np.float32)\n",
    "x_test = x_test.astype(np.float32)\n",
    "x_train /= 255\n",
    "x_test /= 255\n",
    "x_train = x_train.reshape(len(x_train), 784)\n",
    "x_test = x_test.reshape(len(x_test), 784)"
   ]
  },
  {
   "cell_type": "markdown",
   "metadata": {},
   "source": [
    "Оne-hot encoding - преобразуем метки классов в категориальные"
   ]
  },
  {
   "cell_type": "code",
   "execution_count": null,
   "metadata": {},
   "outputs": [],
   "source": [
    "y_train = utils.to_categorical(y_train, 10)\n",
    "y_test = utils.to_categorical(y_test, 10)\n",
    "print(\"Train: %i\" % len(x_train))\n",
    "print(\"Test: %i\" % len(x_test))"
   ]
  },
  {
   "cell_type": "markdown",
   "metadata": {},
   "source": [
    "<a name=\"2\"></a>\n",
    "## 2. Softmax регрессия"
   ]
  },
  {
   "cell_type": "markdown",
   "metadata": {},
   "source": [
    "Создаем последовательную модель в Keras и добавляем слои"
   ]
  },
  {
   "cell_type": "code",
   "execution_count": null,
   "metadata": {},
   "outputs": [],
   "source": [
    "# создаем модель\n",
    "maxsoft_regressor = Sequential()\n",
    "maxsoft_regressor.add(Dense(10, input_dim=784, activation=\"softmax\", kernel_initializer=\"normal\"))\n",
    "maxsoft_regressor.summary()"
   ]
  },
  {
   "cell_type": "markdown",
   "metadata": {},
   "source": [
    "Компилируем модель с выбранными оптимизатором, функцией потерь и метрикой, а далее обучаем модель"
   ]
  },
  {
   "cell_type": "code",
   "execution_count": null,
   "metadata": {},
   "outputs": [],
   "source": [
    "optimizer = SGD(lr=0.5)\n",
    "maxsoft_regressor.compile(optimizer=optimizer, loss=\"categorical_crossentropy\", metrics=[\"accuracy\"])\n",
    "maxsoft_regressor.fit(x_train, y_train, batch_size=100, shuffle=True, verbose=1)"
   ]
  },
  {
   "cell_type": "markdown",
   "metadata": {},
   "source": [
    "Тестирование модели на тестовой выборке"
   ]
  },
  {
   "cell_type": "code",
   "execution_count": null,
   "metadata": {},
   "outputs": [],
   "source": [
    "acc = maxsoft_regressor.evaluate(x_test, y_test, verbose=0)\n",
    "print(\"Точность: %.2f%%\" % (acc[1]*100))"
   ]
  },
  {
   "cell_type": "markdown",
   "metadata": {},
   "source": [
    "<a name=\"3\"></a>\n",
    "## 3. Сверточная нейронная сеть (CNN)"
   ]
  },
  {
   "cell_type": "markdown",
   "metadata": {},
   "source": [
    "Модель сверточной нейронной сети"
   ]
  },
  {
   "cell_type": "markdown",
   "metadata": {},
   "source": [
    "<img src=\"images/cnn-mnist/CNN.jpg\" width=\"900px\">"
   ]
  },
  {
   "cell_type": "markdown",
   "metadata": {},
   "source": [
    "Конвертируем данные из вектора 1х784 в матрицу 28х28x1 [количество изображений, высота, ширина, количество каналов]"
   ]
  },
  {
   "cell_type": "code",
   "execution_count": null,
   "metadata": {},
   "outputs": [],
   "source": [
    "x_train = x_train.reshape(len(x_train), 28, 28, 1)\n",
    "x_test = x_test.reshape(len(x_test), 28, 28, 1)"
   ]
  },
  {
   "cell_type": "markdown",
   "metadata": {},
   "source": [
    "<a name=\"3a\"></a>\n",
    "### a. Первый слой\n",
    "\n",
    "Последовательности операций: Image[28x28x1] > CONV1 > ReLU > POOL1 > Image[14x14x32]"
   ]
  },
  {
   "cell_type": "markdown",
   "metadata": {},
   "source": [
    "<img src=\"images/cnn-mnist/Conv_L1.jpg\" width=\"700px\">"
   ]
  },
  {
   "cell_type": "markdown",
   "metadata": {},
   "source": [
    "<div>\n",
    "<p>Формирование слоя  CONV1:</p>\n",
    "<ul>\n",
    "    <li>количество фильтров - 32</li> \n",
    "    <li>размер фильтра - 5х5</li>\n",
    "    <li>количество каналов - 1 (монохромное изображение)</li> \n",
    "    <li>шаг смещения - 1</li>\n",
    "    <li>с сохранением исходной размеронсти данных (добавление нулей - padding) - да</li>\n",
    "</ul>\n",
    "</div>\n",
    "\n",
    "СONV1: [-1,28,28,1] > CONV1 [5, 5, 1, 32] > [-1,28,28,32]"
   ]
  },
  {
   "cell_type": "code",
   "execution_count": null,
   "metadata": {},
   "outputs": [],
   "source": [
    "# создаем последовательную модель нейронной сети\n",
    "cnn = Sequential()\n",
    "\n",
    "# добавляем сверточный слой\n",
    "cnn.add(Conv2D(input_shape=(28,28,1), \n",
    "               filters=32, \n",
    "               kernel_size=(5,5), \n",
    "               padding=\"same\",\n",
    "               kernel_initializer=TruncatedNormal(stddev=0.1),\n",
    "               use_bias=True,\n",
    "               bias_initializer=Constant(0.1),\n",
    "               activation=\"relu\"))"
   ]
  },
  {
   "cell_type": "markdown",
   "metadata": {},
   "source": [
    "POOL1: [-1,28,28,32] -> POOL1 -> [-1,14,14,32]"
   ]
  },
  {
   "cell_type": "markdown",
   "metadata": {},
   "source": [
    "<div>\n",
    "<p>Формирование слоя  POOL1:</p>\n",
    "<ul>\n",
    "    <li>размер фильтра - 2х2</li>\n",
    "    <li>количество каналов - 32</li> \n",
    "    <li>шаг смещения - 2</li>\n",
    "    <li>с сохранением исходной размеронсти данных (добавление нулей - padding) - да</li>\n",
    "</ul>\n",
    "</div>"
   ]
  },
  {
   "cell_type": "code",
   "execution_count": null,
   "metadata": {},
   "outputs": [],
   "source": [
    "cnn.add(MaxPool2D(pool_size=(2,2), strides=(2,2), padding=\"same\"))"
   ]
  },
  {
   "cell_type": "markdown",
   "metadata": {},
   "source": [
    "<a name=\"3b\"></a>\n",
    "### b. Второй слой\n",
    "\n",
    "Последовательности операций: Image[14x14x32] > CONV2 > ReLU > POOL2 > Image[7x7x64]"
   ]
  },
  {
   "cell_type": "markdown",
   "metadata": {},
   "source": [
    "<img src=\"images/cnn-mnist/Conv_L2.jpg\" width=\"700px\">"
   ]
  },
  {
   "cell_type": "markdown",
   "metadata": {},
   "source": [
    "<div>\n",
    "<p>Пример с тремям каналами и двумя фильтрами [<a href=\"http://cs231n.github.io/convolutional-networks/#conv\">ссылка</a>]</p>\n",
    "<img src=\"images/cnn-mnist/CNN_3ch_2fil.png\" width=\"700px\">\n",
    "</div>"
   ]
  },
  {
   "cell_type": "markdown",
   "metadata": {},
   "source": [
    "<div>\n",
    "<p>Формирование слоя  CONV2:</p>\n",
    "<ul>\n",
    "    <li>количество фильтров - 64</li> \n",
    "    <li>размер фильтра - 5х5</li>\n",
    "    <li>количество каналов - 32 (от каждого фильтра из предыдущего слоя)</li> \n",
    "    <li>шаг смещения - 1</li>\n",
    "    <li>с сохранением исходной размеронсти данных (добавление нулей - padding) - да</li>\n",
    "</ul>\n",
    "</div>"
   ]
  },
  {
   "cell_type": "code",
   "execution_count": null,
   "metadata": {},
   "outputs": [],
   "source": [
    "cnn.add(Conv2D(filters=64, \n",
    "               kernel_size=(5,5), \n",
    "               padding=\"same\",\n",
    "               kernel_initializer=TruncatedNormal(stddev=0.1),\n",
    "               use_bias=True,\n",
    "               bias_initializer=Constant(0.1),\n",
    "               activation=\"relu\"))"
   ]
  },
  {
   "cell_type": "code",
   "execution_count": null,
   "metadata": {},
   "outputs": [],
   "source": [
    "cnn.add(MaxPool2D(pool_size=(2,2), strides=(2,2), padding=\"same\"))"
   ]
  },
  {
   "cell_type": "markdown",
   "metadata": {},
   "source": [
    "<a name=\"3c\"></a>\n",
    "### c. Третий и четвертый слои"
   ]
  },
  {
   "cell_type": "markdown",
   "metadata": {},
   "source": [
    "Представление изображений в виде одномерного массива\n",
    "<img src=\"images/cnn-mnist/Data_Repr_FCL.jpg\" width=\"300px\">"
   ]
  },
  {
   "cell_type": "markdown",
   "metadata": {},
   "source": [
    "Последовательности операций: Image[7\\*7\\*64x1] > FC ReLU > FC Softmax > Probability[10x1]\n",
    "<img src=\"images/cnn-mnist/FC_L3_L4.jpg\" width=\"800px\">"
   ]
  },
  {
   "cell_type": "code",
   "execution_count": null,
   "metadata": {},
   "outputs": [],
   "source": [
    "# Третий слой\n",
    "cnn.add(Flatten()) # преобразуем изображение(карту) в одномерный массив\n",
    "cnn.add(Dense(1024, kernel_initializer=TruncatedNormal(stddev=0.1),\n",
    "              use_bias=True,\n",
    "              bias_initializer=Constant(0.1),\n",
    "              activation=\"relu\"))"
   ]
  },
  {
   "cell_type": "code",
   "execution_count": null,
   "metadata": {},
   "outputs": [],
   "source": [
    "# Четвертый слой\n",
    "cnn.add(Dense(10, kernel_initializer=TruncatedNormal(stddev=0.1),\n",
    "              use_bias=True,\n",
    "              bias_initializer=Constant(0.1), \n",
    "              activation=\"softmax\"))"
   ]
  },
  {
   "cell_type": "code",
   "execution_count": null,
   "metadata": {},
   "outputs": [],
   "source": [
    "# вывод информации о полученной модели\n",
    "cnn.summary()"
   ]
  },
  {
   "cell_type": "markdown",
   "metadata": {},
   "source": [
    "<a name=\"3d\"></a>\n",
    "### d. Обучение и тестирование"
   ]
  },
  {
   "cell_type": "markdown",
   "metadata": {},
   "source": [
    "<p>Итеративный процесс обучения:</p>\n",
    "<ul>\n",
    "    <li>всего изображений в обучающем подмножестве - 60000\n",
    "        <ul>\n",
    "            <li>обучающая выборка: 57000</li>\n",
    "            <li>валидационная выборка: 3000</li>\n",
    "        </ul>\n",
    "    </li>\n",
    "    <li>всего изображений в тестовом подмножестве - 10000</li>\n",
    "    <li>размер batch'а - 100</li>\n",
    "    <li>всего batch'ей - 10000 (возможны повторы)</li>\n",
    "    <li>количество эпох - 18</li>\n",
    "</ul>"
   ]
  },
  {
   "cell_type": "code",
   "execution_count": null,
   "metadata": {},
   "outputs": [],
   "source": [
    "# Компилируем модель\n",
    "cnn.compile(optimizer=Adam(), loss=\"categorical_crossentropy\", metrics=[\"accuracy\"])"
   ]
  },
  {
   "cell_type": "code",
   "execution_count": null,
   "metadata": {},
   "outputs": [],
   "source": [
    "# Создаем генератор изображений\n",
    "gen = ImageDataGenerator(validation_split=0.05)\n",
    "# Генератор для обучения\n",
    "train_gen = gen.flow(x_train, y_train, batch_size=100, shuffle=True, subset=\"training\")\n",
    "# Генератор для валидации\n",
    "valid_gen = gen.flow(x_train, y_train, batch_size=100, shuffle=True, subset=\"validation\")"
   ]
  },
  {
   "cell_type": "code",
   "execution_count": null,
   "metadata": {},
   "outputs": [],
   "source": [
    "# Обучаем модель (с генератором изображений)\n",
    "hist = cnn.fit_generator(train_gen, steps_per_epoch=10000, \n",
    "                  validation_data=valid_gen, validation_steps=10000,\n",
    "                  epochs=18, verbose=1)"
   ]
  },
  {
   "cell_type": "code",
   "execution_count": null,
   "metadata": {},
   "outputs": [],
   "source": [
    "# Визуализация процесса обучения - построение графиков зависимости ошибки и точности от эпохи\n",
    "plt.plot(hist.history[\"loss\"], label=\"Ошибка на обучающей выборке\")\n",
    "plt.plot(hist.history[\"val_loss\"], label=\"Ошибка на валидационной выборке\")\n",
    "plt.xlabel(\"Эпоха\")\n",
    "plt.ylabel(\"Ошибка\")\n",
    "plt.legend()\n",
    "plt.show()\n",
    "plt.plot(hist.history[\"acc\"], label=\"Точность на обучающей выборке\")\n",
    "plt.plot(hist.history[\"val_acc\"], label=\"Точность на валидационной выборке\")\n",
    "plt.xlabel(\"Эпоха\")\n",
    "plt.ylabel(\"Точность\")\n",
    "plt.legend()\n",
    "plt.show()"
   ]
  },
  {
   "cell_type": "code",
   "execution_count": null,
   "metadata": {},
   "outputs": [],
   "source": [
    "# Тестирование модели\n",
    "cnn.evaluate(x_test, y_test, verbose=0)\n",
    "print(\"Точность: %.2f%%\" % (scores[1]*100))"
   ]
  },
  {
   "cell_type": "markdown",
   "metadata": {},
   "source": [
    "<a name=\"3e\"></a>\n",
    "### e. Dropout регуляризация"
   ]
  },
  {
   "cell_type": "code",
   "execution_count": null,
   "metadata": {},
   "outputs": [],
   "source": [
    "# сохраняем и удаляем из модели последний слой (softmax)\n",
    "lay = cnn.layers[len(cnn.layers)-1]\n",
    "cnn.pop()\n",
    "\n",
    "# добавляем dropout\n",
    "cnn.add(Dropout(0.5))\n",
    "\n",
    "# возвращаем последний слой (softmax)\n",
    "cnn.add(lay)\n",
    "\n",
    "# Компилируем модель\n",
    "cnn.compile(optimizer=Adam(), loss=\"categorical_crossentropy\", metrics=[\"accuracy\"])\n",
    "\n",
    "cnn.summary()"
   ]
  },
  {
   "cell_type": "code",
   "execution_count": null,
   "metadata": {},
   "outputs": [],
   "source": [
    "# Обучаем модель\n",
    "hist = cnn.fit_generator(train_gen, steps_per_epoch=10000, \n",
    "                  validation_data=valid_gen, validation_steps=10000,\n",
    "                  epochs=18, \n",
    "                  verbose=2)"
   ]
  },
  {
   "cell_type": "code",
   "execution_count": null,
   "metadata": {},
   "outputs": [],
   "source": [
    "# Визуализация процесса обучения - построение графиков зависимости ошибки и точности от эпохи\n",
    "plt.plot(hist.history[\"loss\"], label=\"Ошибка на обучающей выборке\")\n",
    "plt.plot(hist.history[\"val_loss\"], label=\"Ошибка на валидационной выборке\")\n",
    "plt.xlabel(\"Эпоха\")\n",
    "plt.ylabel(\"Ошибка\")\n",
    "plt.legend()\n",
    "plt.show()\n",
    "plt.plot(hist.history[\"acc\"], label=\"Точность на обучающей выборке\")\n",
    "plt.plot(hist.history[\"val_acc\"], label=\"Точность на валидационной выборке\")\n",
    "plt.xlabel(\"Эпоха\")\n",
    "plt.ylabel(\"Точность\")\n",
    "plt.legend()\n",
    "plt.show()"
   ]
  },
  {
   "cell_type": "code",
   "execution_count": null,
   "metadata": {},
   "outputs": [],
   "source": [
    "# Тестирование модели\n",
    "cnn.evaluate(x_test, y_test, verbose=0)\n",
    "print(\"Точность: %.2f%%\" % (scores[1]*100))"
   ]
  },
  {
   "cell_type": "code",
   "execution_count": null,
   "metadata": {},
   "outputs": [],
   "source": [
    "# Сделаем предсказание для произвольного примера и сравним с истинной меткой класса\n",
    "rand_test = np.random.choice(x_test.index)\n",
    "s = x_test[rand_test]\n",
    "s = s.reshape(1, len(s))\n",
    "pred = np.argmax(model.predict(s), axis=-1)\n",
    "plt.matshow(x_test[rand_test].reshape(28, 28), cmap=\"grey\")\n",
    "plt.set_title(\"Класс: %i\" % y_test.loc[rand_test])\n",
    "plt.grid(False)"
   ]
  },
  {
   "cell_type": "markdown",
   "metadata": {},
   "source": [
    "<a name=\"6\"></a>\n",
    "## Источники"
   ]
  },
  {
   "cell_type": "markdown",
   "metadata": {},
   "source": [
    "<div>\n",
    "<a href=\"https://www.tensorflow.org/get_started/mnist/beginners\">MNIST For ML Beginners</a><br>\n",
    "<a href=\"https://www.tensorflow.org/get_started/mnist/pros\">Deep MNIST for Experts</a><br>\n",
    "<a href=\"https://www.tensorflow.org/tutorials/deep_cnn\">Convolutional Neural Networks</a><br>\n",
    "<a href=\"http://cs231n.github.io/convolutional-networks/\">Convolutional Neural Networks (CNNs / ConvNets)</a><br>\n",
    "<a href=\"http://papers.nips.cc/paper/4824-imagenet-classification-with-deep-convolutional-neural-networks.pdf\">ImageNet Classification with Deep Convolutional Neural Networks (PDF)</a><br>\n",
    "<a href=\"https://keras.io/getting-started/functional-api-guide/\">Keras API Introduction</a><br>\n",
    "<a href=\"https://keras.io/getting-started/sequential-model-guide/\">Keras Sequential Model Guide</a><br>\n",
    "<a href=\"https://keras.io/datasets/\">Keras Datasets</a>\n",
    "</div>"
   ]
  },
  {
   "cell_type": "code",
   "execution_count": null,
   "metadata": {},
   "outputs": [],
   "source": []
  }
 ],
 "metadata": {
  "kernelspec": {
   "display_name": "Python 3",
   "language": "python",
   "name": "python3"
  },
  "language_info": {
   "codemirror_mode": {
    "name": "ipython",
    "version": 3
   },
   "file_extension": ".py",
   "mimetype": "text/x-python",
   "name": "python",
   "nbconvert_exporter": "python",
   "pygments_lexer": "ipython3",
   "version": "3.6.7"
  }
 },
 "nbformat": 4,
 "nbformat_minor": 2
}
